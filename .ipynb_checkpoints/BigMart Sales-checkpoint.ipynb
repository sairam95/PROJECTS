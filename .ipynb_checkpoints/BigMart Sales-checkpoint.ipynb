{
 "cells": [
  {
   "cell_type": "code",
   "execution_count": 1,
   "metadata": {
    "collapsed": true
   },
   "outputs": [],
   "source": [
    "import pandas as pd\n",
    "import matplotlib.pyplot as plt\n",
    "import numpy as np\n",
    "import seaborn as sns\n",
    "%matplotlib inline"
   ]
  },
  {
   "cell_type": "code",
   "execution_count": 2,
   "metadata": {
    "collapsed": true
   },
   "outputs": [],
   "source": [
    "train=pd.read_csv('Train_UWu5bXk.csv')\n",
    "test = pd.read_csv('Test_u94Q5KV.csv')"
   ]
  },
  {
   "cell_type": "code",
   "execution_count": 3,
   "metadata": {
    "collapsed": true
   },
   "outputs": [],
   "source": [
    "#Renaming the columns\n",
    "train.rename(columns={'Item_Visibility':'Item_display_area'},inplace=True)\n",
    "test.rename(columns={'Item_Visibility':'Item_display_area'},inplace=True)"
   ]
  },
  {
   "cell_type": "code",
   "execution_count": 4,
   "metadata": {
    "collapsed": true,
    "scrolled": false
   },
   "outputs": [],
   "source": [
    "#Concatenate Training and test data\n",
    "total = pd.concat([train,test])"
   ]
  },
  {
   "cell_type": "code",
   "execution_count": 5,
   "metadata": {
    "collapsed": false
   },
   "outputs": [
    {
     "name": "stdout",
     "output_type": "stream",
     "text": [
      "<class 'pandas.core.frame.DataFrame'>\n",
      "Int64Index: 14204 entries, 0 to 5680\n",
      "Data columns (total 12 columns):\n",
      "Item_Fat_Content             14204 non-null object\n",
      "Item_Identifier              14204 non-null object\n",
      "Item_MRP                     14204 non-null float64\n",
      "Item_Outlet_Sales            8523 non-null float64\n",
      "Item_Type                    14204 non-null object\n",
      "Item_Weight                  11765 non-null float64\n",
      "Item_display_area            14204 non-null float64\n",
      "Outlet_Establishment_Year    14204 non-null int64\n",
      "Outlet_Identifier            14204 non-null object\n",
      "Outlet_Location_Type         14204 non-null object\n",
      "Outlet_Size                  10188 non-null object\n",
      "Outlet_Type                  14204 non-null object\n",
      "dtypes: float64(4), int64(1), object(7)\n",
      "memory usage: 1.4+ MB\n"
     ]
    }
   ],
   "source": [
    "total.info()"
   ]
  },
  {
   "cell_type": "code",
   "execution_count": 6,
   "metadata": {
    "collapsed": true
   },
   "outputs": [],
   "source": [
    "#Changing the required datatypes\n",
    "for c in total.columns:\n",
    "    if(total[c].dtype =='O'):\n",
    "        total[c] = total[c].astype('category')"
   ]
  },
  {
   "cell_type": "code",
   "execution_count": 7,
   "metadata": {
    "collapsed": true
   },
   "outputs": [],
   "source": [
    "total['Item_Fat_Content'] = pd.Categorical(total['Item_Fat_Content'],categories=['LF','Reg','reg','Low Fat','Regular','low fat'])\n",
    "#Correcting inconsistencies with data\n",
    "total.loc[total['Item_Fat_Content']=='Low Fat','Item_Fat_Content'] ='LF'\n",
    "total.loc[total['Item_Fat_Content']=='Regular','Item_Fat_Content'] ='Reg'\n",
    "total.loc[total['Item_Fat_Content']=='reg','Item_Fat_Content'] ='Reg'\n",
    "total.loc[total['Item_Fat_Content']=='low fat','Item_Fat_Content'] ='LF'\n",
    "total['Item_Fat_Content'] = pd.Categorical(total['Item_Fat_Content'],categories=['LF','Reg'])"
   ]
  },
  {
   "cell_type": "code",
   "execution_count": 8,
   "metadata": {
    "collapsed": true
   },
   "outputs": [],
   "source": [
    "#Imputing data- #Outlet Size\n",
    "#As per existing data Irrespective of Tier type1 and Grocery store are small.So using small\n",
    "total.loc[total.Outlet_Size.isnull(),'Outlet_Size'] = 'Small'"
   ]
  },
  {
   "cell_type": "code",
   "execution_count": 9,
   "metadata": {
    "collapsed": true
   },
   "outputs": [],
   "source": [
    "#Item_Weight\n",
    "total['Item_Weight'] = total['Item_Weight'].fillna(total.groupby(['Item_Identifier'])['Item_Weight'].transform('mean'))\n",
    "total['Item_Weight'] = total['Item_Weight'].fillna(total.groupby(['Item_Fat_Content'])['Item_Weight'].transform('mean'))"
   ]
  },
  {
   "cell_type": "code",
   "execution_count": 10,
   "metadata": {
    "collapsed": true
   },
   "outputs": [],
   "source": [
    "total.loc[total['Item_display_area']== 0,'Item_display_area'] = np.nan\n",
    "total['Item_display_area'] = total['Item_display_area'].fillna(total.groupby(['Item_Identifier','Outlet_Type'])['Item_display_area'].transform('mean'))\n",
    "total['Item_display_area'] = total['Item_display_area'].fillna(total.groupby(['Item_Identifier'])['Item_display_area'].transform('mean'))\n"
   ]
  },
  {
   "cell_type": "code",
   "execution_count": 11,
   "metadata": {
    "collapsed": true
   },
   "outputs": [],
   "source": [
    "#Creating a Generated type \n",
    "def gen_type(x):\n",
    "    if x[0:2] == 'FD':\n",
    "        return 'Foods'\n",
    "    elif x[0:2] == 'DR':\n",
    "        return 'Drinks'\n",
    "    else:\n",
    "        return 'Non Consumable'"
   ]
  },
  {
   "cell_type": "code",
   "execution_count": 12,
   "metadata": {
    "collapsed": true
   },
   "outputs": [],
   "source": [
    "#Apply the function on Gen_Item_type\n",
    "total['Gen_Item_type'] = total['Item_Identifier'].apply(gen_type)"
   ]
  },
  {
   "cell_type": "code",
   "execution_count": 13,
   "metadata": {
    "collapsed": true
   },
   "outputs": [],
   "source": [
    "#It doesnt make sense to have fatcontent for non consumables hence make it inedible\n",
    "total['Item_Fat_Content'] = pd.Categorical(total['Item_Fat_Content'],categories=['LF','Reg','Inedible'])\n",
    "total.loc[total['Gen_Item_type'] == 'Non Consumable','Item_Fat_Content'] = 'Inedible'"
   ]
  },
  {
   "cell_type": "code",
   "execution_count": 14,
   "metadata": {
    "collapsed": true
   },
   "outputs": [],
   "source": [
    "#New column to calculate the age of a outlet\n",
    "total['Outlet_Age']= 2013 - total['Outlet_Establishment_Year']"
   ]
  },
  {
   "cell_type": "code",
   "execution_count": 15,
   "metadata": {
    "collapsed": true
   },
   "outputs": [],
   "source": [
    "train_final = total.iloc[:8523,]\n",
    "test_final = total.iloc[8523:,]\n",
    "\n",
    "test_final.to_csv('Big_mart_test.csv')\n"
   ]
  },
  {
   "cell_type": "code",
   "execution_count": 16,
   "metadata": {
    "collapsed": false
   },
   "outputs": [
    {
     "data": {
      "text/html": [
       "<div>\n",
       "<style>\n",
       "    .dataframe thead tr:only-child th {\n",
       "        text-align: right;\n",
       "    }\n",
       "\n",
       "    .dataframe thead th {\n",
       "        text-align: left;\n",
       "    }\n",
       "\n",
       "    .dataframe tbody tr th {\n",
       "        vertical-align: top;\n",
       "    }\n",
       "</style>\n",
       "<table border=\"1\" class=\"dataframe\">\n",
       "  <thead>\n",
       "    <tr style=\"text-align: right;\">\n",
       "      <th></th>\n",
       "      <th>Item_Fat_Content</th>\n",
       "      <th>Item_Identifier</th>\n",
       "      <th>Item_MRP</th>\n",
       "      <th>Item_Outlet_Sales</th>\n",
       "      <th>Item_Type</th>\n",
       "      <th>Item_Weight</th>\n",
       "      <th>Item_display_area</th>\n",
       "      <th>Outlet_Establishment_Year</th>\n",
       "      <th>Outlet_Identifier</th>\n",
       "      <th>Outlet_Location_Type</th>\n",
       "      <th>Outlet_Size</th>\n",
       "      <th>Outlet_Type</th>\n",
       "      <th>Gen_Item_type</th>\n",
       "      <th>Outlet_Age</th>\n",
       "    </tr>\n",
       "  </thead>\n",
       "  <tbody>\n",
       "    <tr>\n",
       "      <th>0</th>\n",
       "      <td>LF</td>\n",
       "      <td>DRA12</td>\n",
       "      <td>141.6154</td>\n",
       "      <td>3829.0158</td>\n",
       "      <td>Soft Drinks</td>\n",
       "      <td>11.6</td>\n",
       "      <td>0.041011</td>\n",
       "      <td>2002</td>\n",
       "      <td>OUT045</td>\n",
       "      <td>Tier 2</td>\n",
       "      <td>Small</td>\n",
       "      <td>Supermarket Type1</td>\n",
       "      <td>Drinks</td>\n",
       "      <td>11</td>\n",
       "    </tr>\n",
       "    <tr>\n",
       "      <th>1</th>\n",
       "      <td>LF</td>\n",
       "      <td>DRA12</td>\n",
       "      <td>141.9154</td>\n",
       "      <td>992.7078</td>\n",
       "      <td>Soft Drinks</td>\n",
       "      <td>11.6</td>\n",
       "      <td>0.041011</td>\n",
       "      <td>2004</td>\n",
       "      <td>OUT035</td>\n",
       "      <td>Tier 2</td>\n",
       "      <td>Small</td>\n",
       "      <td>Supermarket Type1</td>\n",
       "      <td>Drinks</td>\n",
       "      <td>9</td>\n",
       "    </tr>\n",
       "    <tr>\n",
       "      <th>2</th>\n",
       "      <td>LF</td>\n",
       "      <td>DRA12</td>\n",
       "      <td>142.3154</td>\n",
       "      <td>2552.6772</td>\n",
       "      <td>Soft Drinks</td>\n",
       "      <td>11.6</td>\n",
       "      <td>0.040912</td>\n",
       "      <td>1987</td>\n",
       "      <td>OUT013</td>\n",
       "      <td>Tier 3</td>\n",
       "      <td>High</td>\n",
       "      <td>Supermarket Type1</td>\n",
       "      <td>Drinks</td>\n",
       "      <td>26</td>\n",
       "    </tr>\n",
       "    <tr>\n",
       "      <th>3</th>\n",
       "      <td>LF</td>\n",
       "      <td>DRA12</td>\n",
       "      <td>142.0154</td>\n",
       "      <td>850.8924</td>\n",
       "      <td>Soft Drinks</td>\n",
       "      <td>11.6</td>\n",
       "      <td>0.041113</td>\n",
       "      <td>2009</td>\n",
       "      <td>OUT018</td>\n",
       "      <td>Tier 3</td>\n",
       "      <td>Medium</td>\n",
       "      <td>Supermarket Type2</td>\n",
       "      <td>Drinks</td>\n",
       "      <td>4</td>\n",
       "    </tr>\n",
       "    <tr>\n",
       "      <th>4</th>\n",
       "      <td>LF</td>\n",
       "      <td>DRA12</td>\n",
       "      <td>140.3154</td>\n",
       "      <td>2552.6772</td>\n",
       "      <td>Soft Drinks</td>\n",
       "      <td>11.6</td>\n",
       "      <td>0.041178</td>\n",
       "      <td>2007</td>\n",
       "      <td>OUT017</td>\n",
       "      <td>Tier 2</td>\n",
       "      <td>Small</td>\n",
       "      <td>Supermarket Type1</td>\n",
       "      <td>Drinks</td>\n",
       "      <td>6</td>\n",
       "    </tr>\n",
       "  </tbody>\n",
       "</table>\n",
       "</div>"
      ],
      "text/plain": [
       "  Item_Fat_Content Item_Identifier  Item_MRP  Item_Outlet_Sales    Item_Type  \\\n",
       "0               LF           DRA12  141.6154          3829.0158  Soft Drinks   \n",
       "1               LF           DRA12  141.9154           992.7078  Soft Drinks   \n",
       "2               LF           DRA12  142.3154          2552.6772  Soft Drinks   \n",
       "3               LF           DRA12  142.0154           850.8924  Soft Drinks   \n",
       "4               LF           DRA12  140.3154          2552.6772  Soft Drinks   \n",
       "\n",
       "   Item_Weight  Item_display_area  Outlet_Establishment_Year  \\\n",
       "0         11.6           0.041011                       2002   \n",
       "1         11.6           0.041011                       2004   \n",
       "2         11.6           0.040912                       1987   \n",
       "3         11.6           0.041113                       2009   \n",
       "4         11.6           0.041178                       2007   \n",
       "\n",
       "  Outlet_Identifier Outlet_Location_Type Outlet_Size        Outlet_Type  \\\n",
       "0            OUT045               Tier 2       Small  Supermarket Type1   \n",
       "1            OUT035               Tier 2       Small  Supermarket Type1   \n",
       "2            OUT013               Tier 3        High  Supermarket Type1   \n",
       "3            OUT018               Tier 3      Medium  Supermarket Type2   \n",
       "4            OUT017               Tier 2       Small  Supermarket Type1   \n",
       "\n",
       "  Gen_Item_type  Outlet_Age  \n",
       "0        Drinks          11  \n",
       "1        Drinks           9  \n",
       "2        Drinks          26  \n",
       "3        Drinks           4  \n",
       "4        Drinks           6  "
      ]
     },
     "execution_count": 16,
     "metadata": {},
     "output_type": "execute_result"
    }
   ],
   "source": [
    "total.head()"
   ]
  },
  {
   "cell_type": "code",
   "execution_count": 17,
   "metadata": {
    "collapsed": true
   },
   "outputs": [],
   "source": [
    "total = pd.get_dummies(total, columns=['Item_Fat_Content','Outlet_Location_Type','Outlet_Size','Outlet_Type', 'Outlet_Identifier', 'Gen_Item_type'])"
   ]
  },
  {
   "cell_type": "code",
   "execution_count": 18,
   "metadata": {
    "collapsed": false
   },
   "outputs": [
    {
     "data": {
      "text/html": [
       "<div>\n",
       "<style>\n",
       "    .dataframe thead tr:only-child th {\n",
       "        text-align: right;\n",
       "    }\n",
       "\n",
       "    .dataframe thead th {\n",
       "        text-align: left;\n",
       "    }\n",
       "\n",
       "    .dataframe tbody tr th {\n",
       "        vertical-align: top;\n",
       "    }\n",
       "</style>\n",
       "<table border=\"1\" class=\"dataframe\">\n",
       "  <thead>\n",
       "    <tr style=\"text-align: right;\">\n",
       "      <th></th>\n",
       "      <th>Item_Identifier</th>\n",
       "      <th>Item_MRP</th>\n",
       "      <th>Item_Outlet_Sales</th>\n",
       "      <th>Item_Type</th>\n",
       "      <th>Item_Weight</th>\n",
       "      <th>Item_display_area</th>\n",
       "      <th>Outlet_Establishment_Year</th>\n",
       "      <th>Outlet_Age</th>\n",
       "      <th>Item_Fat_Content_LF</th>\n",
       "      <th>Item_Fat_Content_Reg</th>\n",
       "      <th>...</th>\n",
       "      <th>Outlet_Identifier_OUT018</th>\n",
       "      <th>Outlet_Identifier_OUT019</th>\n",
       "      <th>Outlet_Identifier_OUT027</th>\n",
       "      <th>Outlet_Identifier_OUT035</th>\n",
       "      <th>Outlet_Identifier_OUT045</th>\n",
       "      <th>Outlet_Identifier_OUT046</th>\n",
       "      <th>Outlet_Identifier_OUT049</th>\n",
       "      <th>Gen_Item_type_Drinks</th>\n",
       "      <th>Gen_Item_type_Foods</th>\n",
       "      <th>Gen_Item_type_Non Consumable</th>\n",
       "    </tr>\n",
       "  </thead>\n",
       "  <tbody>\n",
       "    <tr>\n",
       "      <th>0</th>\n",
       "      <td>DRA12</td>\n",
       "      <td>141.6154</td>\n",
       "      <td>3829.0158</td>\n",
       "      <td>Soft Drinks</td>\n",
       "      <td>11.6</td>\n",
       "      <td>0.041011</td>\n",
       "      <td>2002</td>\n",
       "      <td>11</td>\n",
       "      <td>1</td>\n",
       "      <td>0</td>\n",
       "      <td>...</td>\n",
       "      <td>0</td>\n",
       "      <td>0</td>\n",
       "      <td>0</td>\n",
       "      <td>0</td>\n",
       "      <td>1</td>\n",
       "      <td>0</td>\n",
       "      <td>0</td>\n",
       "      <td>1</td>\n",
       "      <td>0</td>\n",
       "      <td>0</td>\n",
       "    </tr>\n",
       "    <tr>\n",
       "      <th>1</th>\n",
       "      <td>DRA12</td>\n",
       "      <td>141.9154</td>\n",
       "      <td>992.7078</td>\n",
       "      <td>Soft Drinks</td>\n",
       "      <td>11.6</td>\n",
       "      <td>0.041011</td>\n",
       "      <td>2004</td>\n",
       "      <td>9</td>\n",
       "      <td>1</td>\n",
       "      <td>0</td>\n",
       "      <td>...</td>\n",
       "      <td>0</td>\n",
       "      <td>0</td>\n",
       "      <td>0</td>\n",
       "      <td>1</td>\n",
       "      <td>0</td>\n",
       "      <td>0</td>\n",
       "      <td>0</td>\n",
       "      <td>1</td>\n",
       "      <td>0</td>\n",
       "      <td>0</td>\n",
       "    </tr>\n",
       "    <tr>\n",
       "      <th>2</th>\n",
       "      <td>DRA12</td>\n",
       "      <td>142.3154</td>\n",
       "      <td>2552.6772</td>\n",
       "      <td>Soft Drinks</td>\n",
       "      <td>11.6</td>\n",
       "      <td>0.040912</td>\n",
       "      <td>1987</td>\n",
       "      <td>26</td>\n",
       "      <td>1</td>\n",
       "      <td>0</td>\n",
       "      <td>...</td>\n",
       "      <td>0</td>\n",
       "      <td>0</td>\n",
       "      <td>0</td>\n",
       "      <td>0</td>\n",
       "      <td>0</td>\n",
       "      <td>0</td>\n",
       "      <td>0</td>\n",
       "      <td>1</td>\n",
       "      <td>0</td>\n",
       "      <td>0</td>\n",
       "    </tr>\n",
       "    <tr>\n",
       "      <th>3</th>\n",
       "      <td>DRA12</td>\n",
       "      <td>142.0154</td>\n",
       "      <td>850.8924</td>\n",
       "      <td>Soft Drinks</td>\n",
       "      <td>11.6</td>\n",
       "      <td>0.041113</td>\n",
       "      <td>2009</td>\n",
       "      <td>4</td>\n",
       "      <td>1</td>\n",
       "      <td>0</td>\n",
       "      <td>...</td>\n",
       "      <td>1</td>\n",
       "      <td>0</td>\n",
       "      <td>0</td>\n",
       "      <td>0</td>\n",
       "      <td>0</td>\n",
       "      <td>0</td>\n",
       "      <td>0</td>\n",
       "      <td>1</td>\n",
       "      <td>0</td>\n",
       "      <td>0</td>\n",
       "    </tr>\n",
       "    <tr>\n",
       "      <th>4</th>\n",
       "      <td>DRA12</td>\n",
       "      <td>140.3154</td>\n",
       "      <td>2552.6772</td>\n",
       "      <td>Soft Drinks</td>\n",
       "      <td>11.6</td>\n",
       "      <td>0.041178</td>\n",
       "      <td>2007</td>\n",
       "      <td>6</td>\n",
       "      <td>1</td>\n",
       "      <td>0</td>\n",
       "      <td>...</td>\n",
       "      <td>0</td>\n",
       "      <td>0</td>\n",
       "      <td>0</td>\n",
       "      <td>0</td>\n",
       "      <td>0</td>\n",
       "      <td>0</td>\n",
       "      <td>0</td>\n",
       "      <td>1</td>\n",
       "      <td>0</td>\n",
       "      <td>0</td>\n",
       "    </tr>\n",
       "  </tbody>\n",
       "</table>\n",
       "<p>5 rows × 34 columns</p>\n",
       "</div>"
      ],
      "text/plain": [
       "  Item_Identifier  Item_MRP  Item_Outlet_Sales    Item_Type  Item_Weight  \\\n",
       "0           DRA12  141.6154          3829.0158  Soft Drinks         11.6   \n",
       "1           DRA12  141.9154           992.7078  Soft Drinks         11.6   \n",
       "2           DRA12  142.3154          2552.6772  Soft Drinks         11.6   \n",
       "3           DRA12  142.0154           850.8924  Soft Drinks         11.6   \n",
       "4           DRA12  140.3154          2552.6772  Soft Drinks         11.6   \n",
       "\n",
       "   Item_display_area  Outlet_Establishment_Year  Outlet_Age  \\\n",
       "0           0.041011                       2002          11   \n",
       "1           0.041011                       2004           9   \n",
       "2           0.040912                       1987          26   \n",
       "3           0.041113                       2009           4   \n",
       "4           0.041178                       2007           6   \n",
       "\n",
       "   Item_Fat_Content_LF  Item_Fat_Content_Reg              ...               \\\n",
       "0                    1                     0              ...                \n",
       "1                    1                     0              ...                \n",
       "2                    1                     0              ...                \n",
       "3                    1                     0              ...                \n",
       "4                    1                     0              ...                \n",
       "\n",
       "   Outlet_Identifier_OUT018  Outlet_Identifier_OUT019  \\\n",
       "0                         0                         0   \n",
       "1                         0                         0   \n",
       "2                         0                         0   \n",
       "3                         1                         0   \n",
       "4                         0                         0   \n",
       "\n",
       "   Outlet_Identifier_OUT027  Outlet_Identifier_OUT035  \\\n",
       "0                         0                         0   \n",
       "1                         0                         1   \n",
       "2                         0                         0   \n",
       "3                         0                         0   \n",
       "4                         0                         0   \n",
       "\n",
       "   Outlet_Identifier_OUT045  Outlet_Identifier_OUT046  \\\n",
       "0                         1                         0   \n",
       "1                         0                         0   \n",
       "2                         0                         0   \n",
       "3                         0                         0   \n",
       "4                         0                         0   \n",
       "\n",
       "   Outlet_Identifier_OUT049  Gen_Item_type_Drinks  Gen_Item_type_Foods  \\\n",
       "0                         0                     1                    0   \n",
       "1                         0                     1                    0   \n",
       "2                         0                     1                    0   \n",
       "3                         0                     1                    0   \n",
       "4                         0                     1                    0   \n",
       "\n",
       "   Gen_Item_type_Non Consumable  \n",
       "0                             0  \n",
       "1                             0  \n",
       "2                             0  \n",
       "3                             0  \n",
       "4                             0  \n",
       "\n",
       "[5 rows x 34 columns]"
      ]
     },
     "execution_count": 18,
     "metadata": {},
     "output_type": "execute_result"
    }
   ],
   "source": [
    "total.head()"
   ]
  },
  {
   "cell_type": "code",
   "execution_count": 19,
   "metadata": {
    "collapsed": true
   },
   "outputs": [],
   "source": [
    "from sklearn.preprocessing import MinMaxScaler\n",
    "from sklearn import linear_model\n",
    "from sklearn.model_selection import train_test_split\n",
    "from sklearn import metrics\n",
    "from sklearn.metrics import r2_score,regression"
   ]
  },
  {
   "cell_type": "code",
   "execution_count": 20,
   "metadata": {
    "collapsed": false
   },
   "outputs": [
    {
     "name": "stderr",
     "output_type": "stream",
     "text": [
      "F:\\Anaconda\\lib\\site-packages\\ipykernel_launcher.py:3: SettingWithCopyWarning: \n",
      "A value is trying to be set on a copy of a slice from a DataFrame\n",
      "\n",
      "See the caveats in the documentation: http://pandas.pydata.org/pandas-docs/stable/indexing.html#indexing-view-versus-copy\n",
      "  This is separate from the ipykernel package so we can avoid doing imports until\n"
     ]
    }
   ],
   "source": [
    "train_final = total.iloc[:8523,]\n",
    "test_final = total.iloc[8523:,]\n",
    "test_final.drop(['Item_Outlet_Sales', 'Item_Type', 'Item_Identifier', 'Outlet_Establishment_Year'], axis = 1, inplace = True)\n",
    "X = train_final.drop(['Item_Outlet_Sales', 'Item_Type', 'Item_Identifier', 'Outlet_Establishment_Year'], axis = 1)\n",
    "Y= train_final['Item_Outlet_Sales']"
   ]
  },
  {
   "cell_type": "markdown",
   "metadata": {},
   "source": [
    "### Linear regression"
   ]
  },
  {
   "cell_type": "code",
   "execution_count": 21,
   "metadata": {
    "collapsed": true
   },
   "outputs": [],
   "source": [
    "\n",
    "X_train,X_test,y_train,y_test = train_test_split(X, Y,test_size=0.30, random_state=42)"
   ]
  },
  {
   "cell_type": "code",
   "execution_count": 28,
   "metadata": {
    "collapsed": true
   },
   "outputs": [],
   "source": [
    "Scaler = MinMaxScaler()\n",
    "#Scaler.fit(X_train)\n",
    "X_train_scaled = Scaler.fit_transform(X_train)\n",
    "X_test_scaled = Scaler.fit_transform(X_test)\n",
    "test_final_scaled = Scaler.fit_transform(test_final)"
   ]
  },
  {
   "cell_type": "code",
   "execution_count": 29,
   "metadata": {
    "collapsed": false
   },
   "outputs": [
    {
     "data": {
      "text/plain": [
       "LinearRegression(copy_X=True, fit_intercept=True, n_jobs=1, normalize=False)"
      ]
     },
     "execution_count": 29,
     "metadata": {},
     "output_type": "execute_result"
    }
   ],
   "source": [
    "lr = linear_model.LinearRegression()\n",
    "lr.fit(X_train_scaled,y_train)"
   ]
  },
  {
   "cell_type": "code",
   "execution_count": 30,
   "metadata": {
    "collapsed": false
   },
   "outputs": [
    {
     "name": "stdout",
     "output_type": "stream",
     "text": [
      "R-Squared: 0.556834730041\n",
      "MAE: 844.215536253\n",
      "MSE: 1300539.00879\n",
      "RMSE: 1140.41177159\n"
     ]
    }
   ],
   "source": [
    "predictions=lr.predict(X_test_scaled)\n",
    "print('R-Squared:',metrics.r2_score(y_test,predictions))\n",
    "print('MAE:', metrics.mean_absolute_error(y_test, predictions))\n",
    "print('MSE:', metrics.mean_squared_error(y_test, predictions))\n",
    "print('RMSE:', np.sqrt(metrics.mean_squared_error(y_test, predictions)))"
   ]
  },
  {
   "cell_type": "markdown",
   "metadata": {},
   "source": [
    "### Ridge Regression"
   ]
  },
  {
   "cell_type": "code",
   "execution_count": 31,
   "metadata": {
    "collapsed": false
   },
   "outputs": [
    {
     "name": "stdout",
     "output_type": "stream",
     "text": [
      "R-Squared: 0.557110791085\n",
      "RMSE: 1140.05651778\n"
     ]
    }
   ],
   "source": [
    "Rg = linear_model.Ridge(alpha=1, normalize=False, solver='auto')\n",
    "Rg.fit(X_train_scaled,y_train)\n",
    "pred2 = Rg.predict(X_test_scaled)\n",
    "print('R-Squared:',metrics.r2_score(y_test,pred2))\n",
    "print('RMSE:', np.sqrt(metrics.mean_squared_error(y_test, pred2)))"
   ]
  },
  {
   "cell_type": "markdown",
   "metadata": {},
   "source": [
    "### Decision tree regression"
   ]
  },
  {
   "cell_type": "code",
   "execution_count": 78,
   "metadata": {
    "collapsed": false
   },
   "outputs": [
    {
     "data": {
      "text/plain": [
       "{'max_depth': 5, 'min_samples_leaf': 50}"
      ]
     },
     "execution_count": 78,
     "metadata": {},
     "output_type": "execute_result"
    }
   ],
   "source": [
    "## Grid search CV for extracting best parameters\n",
    "\n",
    "from sklearn.tree import DecisionTreeClassifier\n",
    "from sklearn.model_selection import GridSearchCV\n",
    "\n",
    "param_grid = {'max_depth': np.arange(3, 10), 'min_samples_leaf':np.arange(10,500,20)}\n",
    "\n",
    "tree = GridSearchCV(DecisionTreeRegressor(), param_grid)\n",
    "\n",
    "tree.fit(X_train_scaled, y_train)\n",
    "tree_preds = tree.predict(X_test_scaled)\n",
    "\n",
    "tree.best_score_\n",
    "tree.best_params_"
   ]
  },
  {
   "cell_type": "code",
   "execution_count": 34,
   "metadata": {
    "collapsed": false
   },
   "outputs": [
    {
     "name": "stdout",
     "output_type": "stream",
     "text": [
      "R-Squared: 0.589588615235\n",
      "RMSE: 1097.45957571\n"
     ]
    }
   ],
   "source": [
    "from sklearn.tree import DecisionTreeRegressor\n",
    "Dt = DecisionTreeRegressor(criterion='mse', max_depth=5, max_features=None,\n",
    "           max_leaf_nodes=None, min_impurity_split=1e-07,\n",
    "           min_samples_leaf=50, min_samples_split=2,\n",
    "           min_weight_fraction_leaf=0.0, presort=False, random_state=None,\n",
    "           splitter='best')\n",
    "Dt.fit(X_train_scaled,y_train)\n",
    "pred3 = Dt.predict(X_test_scaled)\n",
    "print('R-Squared:',metrics.r2_score(y_test,pred3))\n",
    "print('RMSE:', np.sqrt(metrics.mean_squared_error(y_test, pred3)))"
   ]
  },
  {
   "cell_type": "code",
   "execution_count": 79,
   "metadata": {
    "collapsed": true
   },
   "outputs": [],
   "source": [
    "Dt.predict(test_final_scaled)\n",
    "pd.DataFrame(Rf.predict(test_final_scaled)).to_csv('decisiontree.csv')"
   ]
  },
  {
   "cell_type": "markdown",
   "metadata": {},
   "source": [
    "## random forest regressor"
   ]
  },
  {
   "cell_type": "code",
   "execution_count": 80,
   "metadata": {
    "collapsed": false
   },
   "outputs": [
    {
     "name": "stdout",
     "output_type": "stream",
     "text": [
      "R-Squared: 0.595028752541\n",
      "RMSE: 1090.16171813\n"
     ]
    }
   ],
   "source": [
    "from sklearn.ensemble import RandomForestRegressor\n",
    "Rf = RandomForestRegressor(n_estimators= 500, max_depth=5,min_samples_leaf=50)\n",
    "Rf.fit(X_train_scaled,y_train)\n",
    "pred3 = Rf.predict(X_test_scaled)\n",
    "print('R-Squared:',metrics.r2_score(y_test,pred3))\n",
    "print('RMSE:', np.sqrt(metrics.mean_squared_error(y_test, pred3)))"
   ]
  },
  {
   "cell_type": "code",
   "execution_count": 81,
   "metadata": {
    "collapsed": false
   },
   "outputs": [
    {
     "data": {
      "text/plain": [
       "array([ 1620.65842422,  1446.38900549,   591.59390509, ...,  1927.35437599,\n",
       "        3536.94740081,  1317.99513173])"
      ]
     },
     "execution_count": 81,
     "metadata": {},
     "output_type": "execute_result"
    }
   ],
   "source": [
    "Rf.predict(test_final_scaled)"
   ]
  },
  {
   "cell_type": "code",
   "execution_count": 82,
   "metadata": {
    "collapsed": true
   },
   "outputs": [],
   "source": [
    "pd.DataFrame(Rf.predict(test_final_scaled)).to_csv('random_forest.csv')"
   ]
  },
  {
   "cell_type": "markdown",
   "metadata": {
    "collapsed": true
   },
   "source": [
    "##  GRADIENT bOOST REGRESSOR"
   ]
  },
  {
   "cell_type": "code",
   "execution_count": 83,
   "metadata": {
    "collapsed": false
   },
   "outputs": [
    {
     "name": "stdout",
     "output_type": "stream",
     "text": [
      "R-Squared: 0.594756022526\n",
      "RMSE: 1090.52874391\n"
     ]
    }
   ],
   "source": [
    "from sklearn.ensemble import GradientBoostingRegressor\n",
    "gf = GradientBoostingRegressor(learning_rate=0.1, n_estimators=45, subsample=1.0,  \n",
    "                          min_samples_split=2, min_samples_leaf=150, max_depth=6, random_state=None, \n",
    "                          alpha=0.9, verbose=0, max_leaf_nodes=None, warm_start=False )\n",
    "gf.fit(X_train_scaled,y_train)\n",
    "pred3 = gf.predict(X_test_scaled)\n",
    "print('R-Squared:',metrics.r2_score(y_test,pred3))\n",
    "print('RMSE:', np.sqrt(metrics.mean_squared_error(y_test, pred3)))"
   ]
  },
  {
   "cell_type": "code",
   "execution_count": 84,
   "metadata": {
    "collapsed": true
   },
   "outputs": [],
   "source": [
    "gf.predict(test_final_scaled)\n",
    "pd.DataFrame(gf.predict(test_final_scaled)).to_csv('Gradient_boost.csv')"
   ]
  },
  {
   "cell_type": "markdown",
   "metadata": {
    "collapsed": true
   },
   "source": [
    "## Extra Tree regressor"
   ]
  },
  {
   "cell_type": "code",
   "execution_count": 88,
   "metadata": {
    "collapsed": true
   },
   "outputs": [],
   "source": [
    "from sklearn.ensemble import ExtraTreesRegressor"
   ]
  },
  {
   "cell_type": "code",
   "execution_count": 89,
   "metadata": {
    "collapsed": false
   },
   "outputs": [
    {
     "name": "stdout",
     "output_type": "stream",
     "text": [
      "R-Squared: 0.597461894916\n",
      "RMSE: 1086.88183726\n"
     ]
    }
   ],
   "source": [
    "Et = ExtraTreesRegressor(n_estimators=200, criterion='mse', max_depth=6, min_samples_leaf=50, \n",
    "                          max_features='auto', \n",
    "                         bootstrap=False, random_state=None, verbose=0, warm_start=False)\n",
    "Et.fit(X_train_scaled,y_train)\n",
    "pred3 = Et.predict(X_test_scaled)\n",
    "print('R-Squared:',metrics.r2_score(y_test,pred3))\n",
    "print('RMSE:', np.sqrt(metrics.mean_squared_error(y_test, pred3)))"
   ]
  },
  {
   "cell_type": "code",
   "execution_count": 90,
   "metadata": {
    "collapsed": true
   },
   "outputs": [],
   "source": [
    "Et.predict(test_final_scaled)\n",
    "pd.DataFrame(Et.predict(test_final_scaled)).to_csv('Extra_tree.csv')"
   ]
  },
  {
   "cell_type": "markdown",
   "metadata": {},
   "source": [
    "## Neural Networks"
   ]
  },
  {
   "cell_type": "code",
   "execution_count": 59,
   "metadata": {
    "collapsed": true
   },
   "outputs": [],
   "source": [
    "from sklearn.neural_network import MLPRegressor"
   ]
  },
  {
   "cell_type": "code",
   "execution_count": 60,
   "metadata": {
    "collapsed": false
   },
   "outputs": [
    {
     "data": {
      "text/plain": [
       "(5966, 30)"
      ]
     },
     "execution_count": 60,
     "metadata": {},
     "output_type": "execute_result"
    }
   ],
   "source": [
    "X_train.shape"
   ]
  },
  {
   "cell_type": "code",
   "execution_count": 72,
   "metadata": {
    "collapsed": false
   },
   "outputs": [
    {
     "name": "stdout",
     "output_type": "stream",
     "text": [
      "R-Squared: 0.593850565363\n",
      "RMSE: 1091.74637597\n"
     ]
    }
   ],
   "source": [
    "NN= MLPRegressor(hidden_layer_sizes=(30, 30, 30 ,30))\n",
    "NN.fit(X_train_scaled,y_train)\n",
    "pred3 = NN.predict(X_test_scaled)\n",
    "print('R-Squared:',metrics.r2_score(y_test,pred3))\n",
    "print('RMSE:', np.sqrt(metrics.mean_squared_error(y_test, pred3)))"
   ]
  },
  {
   "cell_type": "code",
   "execution_count": 66,
   "metadata": {
    "collapsed": true
   },
   "outputs": [],
   "source": [
    "NN.predict(test_final_scaled)\n",
    "pd.DataFrame(NN.predict(test_final_scaled)).to_csv('Neuralnet.csv')"
   ]
  },
  {
   "cell_type": "code",
   "execution_count": null,
   "metadata": {
    "collapsed": true
   },
   "outputs": [],
   "source": []
  }
 ],
 "metadata": {
  "kernelspec": {
   "display_name": "Python 2",
   "language": "python",
   "name": "python2"
  },
  "language_info": {
   "codemirror_mode": {
    "name": "ipython",
    "version": 2
   },
   "file_extension": ".py",
   "mimetype": "text/x-python",
   "name": "python",
   "nbconvert_exporter": "python",
   "pygments_lexer": "ipython2",
   "version": "2.7.13"
  }
 },
 "nbformat": 4,
 "nbformat_minor": 2
}
